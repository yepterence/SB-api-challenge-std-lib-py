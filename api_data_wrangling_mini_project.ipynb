{
 "cells": [
  {
   "cell_type": "markdown",
   "metadata": {},
   "source": [
    "This exercise will require you to pull some data from the Qunadl API. Qaundl is currently the most widely used aggregator of financial market data."
   ]
  },
  {
   "cell_type": "markdown",
   "metadata": {},
   "source": [
    "As a first step, you will need to register a free account on the http://www.quandl.com website."
   ]
  },
  {
   "cell_type": "markdown",
   "metadata": {},
   "source": [
    "After you register, you will be provided with a unique API key, that you should store:"
   ]
  },
  {
   "cell_type": "code",
   "execution_count": 1,
   "metadata": {},
   "outputs": [],
   "source": [
    "# Store the API key as a string - according to PEP8, constants are always named in all upper case\n",
    "API_KEY = 'ZnxRkEiELrMiaqjre-c5'"
   ]
  },
  {
   "cell_type": "markdown",
   "metadata": {},
   "source": [
    "Qaundl has a large number of data sources, but, unfortunately, most of them require a Premium subscription. Still, there are also a good number of free datasets."
   ]
  },
  {
   "cell_type": "markdown",
   "metadata": {},
   "source": [
    "For this mini project, we will focus on equities data from the Frankfurt Stock Exhange (FSE), which is available for free. We'll try and analyze the stock prices of a company called Carl Zeiss Meditec, which manufactures tools for eye examinations, as well as medical lasers for laser eye surgery: https://www.zeiss.com/meditec/int/home.html. The company is listed under the stock ticker AFX_X."
   ]
  },
  {
   "cell_type": "markdown",
   "metadata": {},
   "source": [
    "You can find the detailed Quandl API instructions here: https://docs.quandl.com/docs/time-series"
   ]
  },
  {
   "cell_type": "markdown",
   "metadata": {},
   "source": [
    "While there is a dedicated Python package for connecting to the Quandl API, we would prefer that you use the *requests* package, which can be easily downloaded using *pip* or *conda*. You can find the documentation for the package here: http://docs.python-requests.org/en/master/ "
   ]
  },
  {
   "cell_type": "markdown",
   "metadata": {},
   "source": [
    "Finally, apart from the *requests* package, you are encouraged to not use any third party Python packages, such as *pandas*, and instead focus on what's available in the Python Standard Library (the *collections* module might come in handy: https://pymotw.com/3/collections/ ).\n",
    "Also, since you won't have access to DataFrames, you are encouraged to us Python's native data structures - preferably dictionaries, though some questions can also be answered using lists.\n",
    "You can read more on these data structures here: https://docs.python.org/3/tutorial/datastructures.html"
   ]
  },
  {
   "cell_type": "markdown",
   "metadata": {},
   "source": [
    "Keep in mind that the JSON responses you will be getting from the API map almost one-to-one to Python's dictionaries. Unfortunately, they can be very nested, so make sure you read up on indexing dictionaries in the documentation provided above."
   ]
  },
  {
   "cell_type": "code",
   "execution_count": 2,
   "metadata": {},
   "outputs": [],
   "source": [
    "# First, import the relevant modules\n",
    "import quandl as q\n",
    "import requests as req\n",
    "# import os\n",
    "import math"
   ]
  },
  {
   "cell_type": "code",
   "execution_count": 3,
   "metadata": {},
   "outputs": [],
   "source": [
    "# verify account key\n",
    "q.ApiConfig.api_key = API_KEY"
   ]
  },
  {
   "cell_type": "code",
   "execution_count": 4,
   "metadata": {},
   "outputs": [
    {
     "data": {
      "text/plain": [
       "{'dataset': {'id': 10095370,\n",
       "  'dataset_code': 'AFX_X',\n",
       "  'database_code': 'FSE',\n",
       "  'name': 'Carl Zeiss Meditec (AFX_X)',\n",
       "  'description': 'Stock Prices for Carl Zeiss Meditec (2020-11-02) from the Frankfurt Stock Exchange.<br><br>Trading System: Xetra<br><br>ISIN: DE0005313704',\n",
       "  'refreshed_at': '2020-12-01T14:48:09.907Z',\n",
       "  'newest_available_date': '2020-12-01',\n",
       "  'oldest_available_date': '2000-06-07',\n",
       "  'column_names': ['Date',\n",
       "   'Open',\n",
       "   'High',\n",
       "   'Low',\n",
       "   'Close',\n",
       "   'Change',\n",
       "   'Traded Volume',\n",
       "   'Turnover',\n",
       "   'Last Price of the Day',\n",
       "   'Daily Traded Units',\n",
       "   'Daily Turnover'],\n",
       "  'frequency': 'daily',\n",
       "  'type': 'Time Series',\n",
       "  'premium': False,\n",
       "  'limit': None,\n",
       "  'transform': None,\n",
       "  'column_index': None,\n",
       "  'start_date': '2017-12-21',\n",
       "  'end_date': '2017-12-31',\n",
       "  'data': [['2017-12-29',\n",
       "    51.76,\n",
       "    51.94,\n",
       "    51.45,\n",
       "    51.76,\n",
       "    None,\n",
       "    34640.0,\n",
       "    1792304.0,\n",
       "    None,\n",
       "    None,\n",
       "    None],\n",
       "   ['2017-12-28',\n",
       "    51.65,\n",
       "    51.82,\n",
       "    51.43,\n",
       "    51.6,\n",
       "    None,\n",
       "    40660.0,\n",
       "    2099024.0,\n",
       "    None,\n",
       "    None,\n",
       "    None],\n",
       "   ['2017-12-27',\n",
       "    51.45,\n",
       "    51.89,\n",
       "    50.76,\n",
       "    51.82,\n",
       "    None,\n",
       "    57452.0,\n",
       "    2957018.0,\n",
       "    None,\n",
       "    None,\n",
       "    None],\n",
       "   ['2017-12-22',\n",
       "    51.05,\n",
       "    51.5,\n",
       "    50.92,\n",
       "    51.32,\n",
       "    None,\n",
       "    71165.0,\n",
       "    3641949.0,\n",
       "    None,\n",
       "    None,\n",
       "    None],\n",
       "   ['2017-12-21',\n",
       "    51.16,\n",
       "    51.52,\n",
       "    50.9,\n",
       "    51.4,\n",
       "    None,\n",
       "    120649.0,\n",
       "    6179433.0,\n",
       "    None,\n",
       "    None,\n",
       "    None]],\n",
       "  'collapse': None,\n",
       "  'order': None,\n",
       "  'database_id': 6129}}"
      ]
     },
     "execution_count": 4,
     "metadata": {},
     "output_type": "execute_result"
    }
   ],
   "source": [
    "# Now, call the Quandl API and pull out a small sample of the data (only one day) to get a glimpse\n",
    "# into the JSON structure that will be returned\n",
    "\n",
    "url_short = \"https://www.quandl.com/api/v3/datasets/FSE/AFX_X.json?start_date=2017-12-21&end_date=2017-12-31&api_key=%s\"%API_KEY\n",
    "data_short = req.get(url_short).json()\n",
    "data_short"
   ]
  },
  {
   "cell_type": "code",
   "execution_count": 5,
   "metadata": {},
   "outputs": [],
   "source": [
    "test = \"https://www.quandl.com/api/v3/datasets/WIKI/FB.json?column_index=4&start_date=2014-01-01&end_date=2014-12-31&collapse=monthly&transform=rdiff&api_key=%s\"%API_KEY\n",
    "json_test = req.get(test).json()"
   ]
  },
  {
   "cell_type": "code",
   "execution_count": 6,
   "metadata": {},
   "outputs": [
    {
     "data": {
      "text/plain": [
       "['Date',\n",
       " 'Open',\n",
       " 'High',\n",
       " 'Low',\n",
       " 'Close',\n",
       " 'Change',\n",
       " 'Traded Volume',\n",
       " 'Turnover',\n",
       " 'Last Price of the Day',\n",
       " 'Daily Traded Units',\n",
       " 'Daily Turnover']"
      ]
     },
     "execution_count": 6,
     "metadata": {},
     "output_type": "execute_result"
    }
   ],
   "source": [
    "# Inspect the JSON structure of the object you created, and take note of how nested it is,\n",
    "# as well as the overall structure\n",
    "data_short['dataset']['data']\n",
    "data_short['dataset']['column_names']"
   ]
  },
  {
   "cell_type": "markdown",
   "metadata": {},
   "source": [
    "These are your tasks for this mini project:\n",
    "\n",
    "1. Collect data from the Franfurt Stock Exchange, for the ticker AFX_X, for the whole year 2017 (keep in mind that the date format is YYYY-MM-DD).\n",
    "2. Convert the returned JSON object into a Python dictionary.\n",
    "3. Calculate what the highest and lowest opening prices were for the stock in this period.\n",
    "4. What was the largest change in any one day (based on High and Low price)?\n",
    "5. What was the largest change between any two days (based on Closing Price)?\n",
    "6. What was the average daily trading volume during this year?\n",
    "7. (Optional) What was the median trading volume during this year. (Note: you may need to implement your own function for calculating the median.)"
   ]
  },
  {
   "cell_type": "code",
   "execution_count": 7,
   "metadata": {},
   "outputs": [],
   "source": [
    "# retrieved datat for ticker AFX_X for the year of 2017 and stored data in dictionary format in data:\n",
    "url = \"https://www.quandl.com/api/v3/datasets/FSE/AFX_X.json?start_date=2017-01-01&end_date=2017-12-31&api_key=%s\"%API_KEY\n",
    "data = req.get(url).json()\n"
   ]
  },
  {
   "cell_type": "code",
   "execution_count": 8,
   "metadata": {},
   "outputs": [
    {
     "name": "stdout",
     "output_type": "stream",
     "text": [
      "52 week high: $53.11 \n",
      "52 week low: $34.0\n"
     ]
    }
   ],
   "source": [
    "Open = [ data['dataset']['data'][open_col][1] for open_col in range(len(data['dataset']['data']))]\n",
    "for i in range(len(Open)):\n",
    "    if i != 0:\n",
    "        if Open[i] == None or Open[i] == 'None':\n",
    "            Open[i] = Open[i-1]\n",
    "Highest_open_price = sorted(Open,reverse=True)[0]\n",
    "Lowest_open = sorted(Open)[0]\n",
    "print(\"52 week high: $%s \" %Highest_open_price )\n",
    "print(\"52 week low: $%s\" %Lowest_open)"
   ]
  },
  {
   "cell_type": "code",
   "execution_count": 17,
   "metadata": {},
   "outputs": [
    {
     "name": "stdout",
     "output_type": "stream",
     "text": [
      "largest intra-day difference in price: 3 2\n"
     ]
    }
   ],
   "source": [
    "intra_high = [ data['dataset']['data'][high][2] for high in range(len(data['dataset']['data'])) ]\n",
    "intra_low = [ data['dataset']['data'][low][3] for low in range(len(data['dataset']['data'])) ]\n",
    "Close = [ data['dataset']['data'][close_col][4] for close_col in range(len(data['dataset']['data']))]\n",
    "# intra-day high vs intra-day low\n",
    "Intra_Difference = [ zip1_i - zip2_i for zip1_i,zip2_i in zip(intra_high,intra_low)]\n",
    "print(\"largest intra-day difference in price: %s\" % sorted(Intra_Difference,reverse=True)[0])\n"
   ]
  },
  {
   "cell_type": "code",
   "execution_count": 20,
   "metadata": {},
   "outputs": [
    {
     "name": "stdout",
     "output_type": "stream",
     "text": [
      "largest change between any two days: 1.7199999999999989\n"
     ]
    }
   ],
   "source": [
    "Difference = [ zip1_i - zip2_i for zip1_i,zip2_i in zip(Close,Close[1:])]\n",
    "print( \"largest change between any two days: %s\"% sorted(Difference,reverse=True)[0])"
   ]
  },
  {
   "cell_type": "code",
   "execution_count": 21,
   "metadata": {},
   "outputs": [
    {
     "name": "stdout",
     "output_type": "stream",
     "text": [
      "Average daily trading volume: 89124.34\n"
     ]
    }
   ],
   "source": [
    "Volume = [ data['dataset']['data'][vol][6] for vol in range(len(data['dataset']['data']))]\n",
    "avg_vol = sum(Volume)/len(Volume)\n",
    "print(\"Average daily trading volume: %s\" % round(avg_vol,2))"
   ]
  },
  {
   "cell_type": "code",
   "execution_count": 22,
   "metadata": {},
   "outputs": [
    {
     "name": "stdout",
     "output_type": "stream",
     "text": [
      "Median trading volume: 117165.0\n"
     ]
    }
   ],
   "source": [
    "def median(arr):\n",
    "    int_len = int(len(arr))\n",
    "    if int_len%2!=0:\n",
    "        return arr[math.ceil(int_len/2)]\n",
    "    elif int_len%2==0:\n",
    "        \n",
    "        return (arr[((int_len/2)+1)]-arr[int_len/2])/2\n",
    "\n",
    "median_vol = median(Volume)\n",
    "print(\"Median trading volume: %s\" % median_vol)"
   ]
  },
  {
   "cell_type": "code",
   "execution_count": null,
   "metadata": {},
   "outputs": [],
   "source": []
  }
 ],
 "metadata": {
  "kernelspec": {
   "display_name": "Python 3",
   "language": "python",
   "name": "python3"
  },
  "language_info": {
   "codemirror_mode": {
    "name": "ipython",
    "version": 3
   },
   "file_extension": ".py",
   "mimetype": "text/x-python",
   "name": "python",
   "nbconvert_exporter": "python",
   "pygments_lexer": "ipython3",
   "version": "3.8.3"
  }
 },
 "nbformat": 4,
 "nbformat_minor": 2
}
